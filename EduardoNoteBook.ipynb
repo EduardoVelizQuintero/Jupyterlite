{
  "metadata": {
    "kernelspec": {
      "name": "python",
      "display_name": "Python (Pyodide)",
      "language": "python"
    },
    "language_info": {
      "codemirror_mode": {
        "name": "python",
        "version": 3
      },
      "file_extension": ".py",
      "mimetype": "text/x-python",
      "name": "python",
      "nbconvert_exporter": "python",
      "pygments_lexer": "ipython3",
      "version": "3.8"
    }
  },
  "nbformat_minor": 5,
  "nbformat": 4,
  "cells": [
    {
      "id": "5f67840e-8f08-4b36-8166-e9f6e4666837",
      "cell_type": "markdown",
      "source": "# Eduardo's NoteBook",
      "metadata": {}
    },
    {
      "id": "ca9078dd-a485-485c-ab29-6f976729d224",
      "cell_type": "markdown",
      "source": "# Introduction\nIn this notebook, I'm going to show many features about JupyterLite Notebooks.",
      "metadata": {}
    },
    {
      "id": "8bb43efa-eb8f-4d9c-aeb0-7e600e510ea0",
      "cell_type": "markdown",
      "source": "# Programming Languages in Data Science\n\nData science relies on various programming languages for analysis, modeling, and data visualization. Below are some of the most commonly used languages:\n\n1. **Python** - Widely used for its ease of use and libraries such as Pandas, NumPy, Scikit-learn, and TensorFlow.  \n2. **R** - Popular for statistics and data analysis, with packages like ggplot2 and dplyr.  \n3. **SQL** - Essential for database manipulation and querying.  \n4. **Julia** - Optimized for high-performance numerical computing.  \n5. **Scala** - Used with Apache Spark for processing large-scale data.  \n6. **Java** - Employed in big data applications and machine learning.  \n7. **C/C++** - Useful for optimizing algorithms in data science.  \n\nEach of these languages has its own advantages and use cases within the data science ecosystem.",
      "metadata": {
        "jp-MarkdownHeadingCollapsed": true
      }
    },
    {
      "id": "201883f0-dc0b-4c9f-aa82-d05182adff15",
      "cell_type": "markdown",
      "source": "# Data Science Tools  \n\nData science involves various tools for data processing, analysis, visualization, and machine learning. The table below lists some key tools and their purposes:  \n\n| **Tool**          | **Category**         | **Description** |\n|-------------------|---------------------|----------------|\n| Jupyter Notebook | Development Environment | Interactive coding and visualization |\n| Anaconda         | Package Management   | Python and R distribution for data science |\n| Apache Spark     | Big Data Processing  | Scalable data processing engine |\n| Hadoop          | Big Data Storage     | Distributed storage for large datasets |\n| Tableau         | Data Visualization   | Business intelligence and dashboarding |\n| Power BI        | Data Visualization   | Microsoft tool for analytics and reporting |\n| TensorFlow      | Machine Learning     | Deep learning framework by Google |\n| PyTorch        | Machine Learning     | Deep learning framework by Meta |\n| Scikit-learn    | Machine Learning     | Machine learning models and tools |\n| Docker         | Deployment           | Containerization for reproducibility |\n| GitHub         | Version Control      | Code collaboration and versioning |\n\nThese tools help streamline different aspects of data science, from development to deployment.",
      "metadata": {
        "jp-MarkdownHeadingCollapsed": true
      }
    },
    {
      "id": "cc6d125e-284e-4f5f-80eb-b6a4b358de8f",
      "cell_type": "markdown",
      "source": "# Arithmetic Expressions  \n\nArithmetic expressions are fundamental in programming and data science. They involve operations such as addition, subtraction, multiplication, and division. Below are some examples:  \n\n- **Addition (`+`)**: `5 + 3 = 8`  \n- **Subtraction (`-`)**: `10 - 4 = 6`  \n- **Multiplication (`*`)**: `7 * 2 = 14`  \n- **Division (`/`)**: `20 / 5 = 4`  \n- **Exponentiation (`**`)**: `2 ** 3 = 8`  \n- **Modulus (`%`)**: `10 % 3 = 1` (remainder of the division)  \n\nThese expressions are commonly used in programming languages like Python, R, and Java.",
      "metadata": {}
    },
    {
      "id": "e1772c60-30c5-46a9-9ae6-ed665edd150f",
      "cell_type": "code",
      "source": "# Multiplication and Addition\na = 5\nb = 3\nmultiplication = a * b\naddition = a + b\nprint(f\"Multiplication: {a} * {b} = {multiplication}\")\nprint(f\"Addition: {a} + {b} = {addition}\")",
      "metadata": {
        "trusted": true
      },
      "outputs": [
        {
          "name": "stdout",
          "output_type": "stream",
          "text": "Multiplication: 5 * 3 = 15\nAddition: 5 + 3 = 8\n"
        }
      ],
      "execution_count": 19
    },
    {
      "id": "2e0807d1-07db-454a-8a2f-917d31506e51",
      "cell_type": "code",
      "source": "# Convert minutes to hours\nminutes = 150\nhours = minutes / 60\nprint(f\"{minutes} minutes is equal to {hours:.2f} hours\")",
      "metadata": {
        "trusted": true
      },
      "outputs": [
        {
          "name": "stdout",
          "output_type": "stream",
          "text": "150 minutes is equal to 2.50 hours\n"
        }
      ],
      "execution_count": 20
    },
    {
      "id": "3934c25a-af3e-4e8f-9bab-02e927bf0e97",
      "cell_type": "code",
      "source": "# List of Objectives\n\nobjectives = [\n    \"Understand data science concepts\",\n    \"Learn Python programming\",\n    \"Apply machine learning techniques\"\n]\nprint(\"Objectives:\")\nfor i, obj in enumerate(objectives, 1):\n    print(f\"{i}. {obj}\")",
      "metadata": {
        "trusted": true
      },
      "outputs": [
        {
          "name": "stdout",
          "output_type": "stream",
          "text": "Objectives:\n1. Understand data science concepts\n2. Learn Python programming\n3. Apply machine learning techniques\n"
        }
      ],
      "execution_count": 21
    },
    {
      "id": "8e1d5081-abe5-427b-9059-4f058cfd3f78",
      "cell_type": "markdown",
      "source": "# Author  \n**Name:** [Eduardo Véliz Quintero]  \n**Date:** [2025-02-12]",
      "metadata": {}
    },
    {
      "id": "4e04dabc-28c5-454d-90c6-77e385588a07",
      "cell_type": "code",
      "source": "",
      "metadata": {
        "trusted": true
      },
      "outputs": [],
      "execution_count": null
    }
  ]
}